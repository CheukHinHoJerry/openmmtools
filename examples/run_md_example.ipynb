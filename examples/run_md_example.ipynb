{
 "cells": [
  {
   "cell_type": "markdown",
   "metadata": {},
   "source": [
    "## Mace MD Demo notebook\n",
    "\n",
    "This should demonstrate the bare bones of the API for setting up a variety of MD jobs with hybrid MACE-classical hamiltonians.  The same functionalty is exposed through the `mace-md` command line program that is installed with the `mace-openmm-interop` package\n",
    "\n",
    "\n",
    "Your vs code server instance should have an attached CUDA GPU for this to run!"
   ]
  },
  {
   "cell_type": "code",
   "execution_count": 20,
   "metadata": {},
   "outputs": [
    {
     "name": "stdout",
     "output_type": "stream",
     "text": [
      "Wed Feb 22 17:32:12 2023       \n",
      "+-----------------------------------------------------------------------------+\n",
      "| NVIDIA-SMI 510.85.02    Driver Version: 510.85.02    CUDA Version: 11.6     |\n",
      "|-------------------------------+----------------------+----------------------+\n",
      "| GPU  Name        Persistence-M| Bus-Id        Disp.A | Volatile Uncorr. ECC |\n",
      "| Fan  Temp  Perf  Pwr:Usage/Cap|         Memory-Usage | GPU-Util  Compute M. |\n",
      "|                               |                      |               MIG M. |\n",
      "|===============================+======================+======================|\n",
      "|   0  NVIDIA A100-SXM...  On   | 00000000:C1:00.0 Off |                    0 |\n",
      "| N/A   34C    P0    77W / 500W |   3942MiB / 81920MiB |      0%      Default |\n",
      "|                               |                      |             Disabled |\n",
      "+-------------------------------+----------------------+----------------------+\n",
      "                                                                               \n",
      "+-----------------------------------------------------------------------------+\n",
      "| Processes:                                                                  |\n",
      "|  GPU   GI   CI        PID   Type   Process name                  GPU Memory |\n",
      "|        ID   ID                                                   Usage      |\n",
      "|=============================================================================|\n",
      "|    0   N/A  N/A   2221317      C   .../envs/mlmm_dev/bin/python     3939MiB |\n",
      "+-----------------------------------------------------------------------------+\n"
     ]
    }
   ],
   "source": [
    "!nvidia-smi"
   ]
  },
  {
   "cell_type": "code",
   "execution_count": 10,
   "metadata": {},
   "outputs": [],
   "source": [
    "from openmmtools.openmm_torch.hybrid_md import PureSystem, MixedSystem\n",
    "import torch\n",
    "import logging\n",
    "from typing import Optional, Union\n",
    "from mace import tools"
   ]
  },
  {
   "cell_type": "code",
   "execution_count": 11,
   "metadata": {},
   "outputs": [],
   "source": [
    "tools.setup_logger(level=\"INFO\", directory=\"./logs\")"
   ]
  },
  {
   "cell_type": "code",
   "execution_count": 21,
   "metadata": {},
   "outputs": [],
   "source": [
    "# Change inputs in this cell only\n",
    "file = \"./example_data/ejm_31.sdf\"  # path to the system to be simulated, can be either protein ligand complex or isolated (sdf)\n",
    "ml_mol = \"./example_data/ejm_31.sdf\"  # path to the proper topology of the small molecule to be modeleld by mace, since pdb files are not sufficiently detailed.  this should be sdf.\n",
    "model_path = \"/home/jhm72/rds/hpc-work/mace-openmm-interop/tests/example_data/SPICE_L1_N3_swa.model\"\n",
    "forcefields = [\n",
    "    \"amber/protein.ff14SB.xml\",\n",
    "    \"amber/tip3p_standard.xml\",\n",
    "    \"amber14/DNA.OL15.xml\",\n",
    "]\n",
    "# name of the residue to be parametrised by mace, should correspond to whatever it is called in the ml_mol sdf file and system file\n",
    "resname = \"4GIH_lig_ejm_31\"\n",
    "# minimum separation between the solute and box wall\n",
    "padding = 1.2\n",
    "# ion concentration in the solute\n",
    "ionicStrength = 0.15\n",
    "# cutoff distance (nm) for the non-bonded terns of the classical forcefield\n",
    "nonbondedCutoff = 1.0\n",
    "# name of the neural network potential, should correpond to the implemented FFs\n",
    "# in the openmm-ml package\n",
    "potential = \"mace\"\n",
    "# simulation temperature\n",
    "temperature = 298.15\n",
    "# precision to use for both MACE and openMM\n",
    "dtype = torch.float64\n",
    "# which version of the torch_nl to use - the n^2 impl is more reliable\n",
    "# directory where simulation output will be written\n",
    "output_dir = \"./output\"\n",
    "# specify the type of system to create - pure (just the solute simulated in vcuum)\n",
    "# hybrid (small molecule modelled by MACE, rest of the system (protein or solvent) modelled by classical forcefield), decoupled (for ABFE simulations - lambda parameter controls switching off the ligand non-bonded terms)"
   ]
  },
  {
   "cell_type": "code",
   "execution_count": 22,
   "metadata": {},
   "outputs": [],
   "source": [
    "torch.set_default_dtype(dtype)"
   ]
  },
  {
   "cell_type": "markdown",
   "metadata": {},
   "source": [
    "## Run pure MD of the small molecule in vacuum - no periodic boundary conditions"
   ]
  },
  {
   "cell_type": "code",
   "execution_count": 23,
   "metadata": {},
   "outputs": [
    {
     "name": "stdout",
     "output_type": "stream",
     "text": [
      "2023-02-22 17:35:02.620 INFO: Using SMFF openff_unconstrained-1.0.0.offxml\n",
      "2023-02-22 17:35:02.620 INFO: Using SMFF openff_unconstrained-1.0.0.offxml\n",
      "2023-02-22 17:35:03.341 INFO: Initialized topology with (32, 3) positions\n",
      "2023-02-22 17:35:03.341 INFO: Initialized topology with (32, 3) positions\n",
      "MACE model compiled\n",
      "rmax from model is tensor(5., device='cuda:0')\n"
     ]
    }
   ],
   "source": [
    "system = PureSystem(\n",
    "    ml_mol=file,\n",
    "    model_path=model_path,\n",
    "    potential=\"mace\",\n",
    "    temperature=temperature,\n",
    "    output_dir=\"output_pure_mace\",\n",
    ")"
   ]
  },
  {
   "cell_type": "code",
   "execution_count": 24,
   "metadata": {},
   "outputs": [
    {
     "name": "stdout",
     "output_type": "stream",
     "text": [
      "2023-02-22 17:35:07.104 INFO: Minimising energy...\n",
      "2023-02-22 17:35:07.104 INFO: Minimising energy...\n"
     ]
    },
    {
     "name": "stderr",
     "output_type": "stream",
     "text": [
      "[W parser.cpp:3513] Warning: operator() sees varying value in profiling, ignoring and this should be handled by GUARD logic (function operator())\n",
      "[W graph_fuser.cpp:104] Warning: operator() profile_node %512 : int[] = prim::profile_ivalue(%510)\n",
      " does not have profile information (function operator())\n"
     ]
    },
    {
     "name": "stdout",
     "output_type": "stream",
     "text": [
      "#\"Step\",\"Time (ps)\",\"Potential Energy (kJ/mole)\",\"Temperature (K)\",\"Speed (ns/day)\"\n",
      "100,0.10000000000000007,-361.9719802207018,32.348076756719514,0\n",
      "200,0.20000000000000015,-346.5240193866451,50.246644136886175,1.23\n",
      "300,0.3000000000000002,-333.25356693151235,84.01805580189905,1.23\n",
      "400,0.4000000000000003,-338.3268061168005,138.28311080966887,1.23\n",
      "500,0.5000000000000003,-314.2289287570971,123.9026602636784,1.23\n",
      "600,0.6000000000000004,-310.40543416888374,139.3714106837999,1.23\n",
      "700,0.7000000000000005,-311.32704786015336,136.40829651483722,1.23\n",
      "800,0.8000000000000006,-317.5036722985203,190.37509554128243,1.22\n",
      "900,0.9000000000000007,-310.242170354545,177.26852466881516,1.22\n",
      "1000,1.0000000000000007,-315.9279982430887,214.94723195234428,1.22\n"
     ]
    }
   ],
   "source": [
    "system.run_mixed_md(\n",
    "    steps=1000, interval=100, output_file=\"output_md_test.pdb\", restart=False\n",
    ")"
   ]
  },
  {
   "cell_type": "markdown",
   "metadata": {},
   "source": [
    "## Run Mixed MD with the ligand solvated in a tip3p water box\n",
    "\n",
    "Construct a system where the bonded terms for the small molecule are replaced by MACE, solvent and long-range interactions retain the AMBER FF parameters\n",
    "\n",
    "Small molecule in periodic water box"
   ]
  },
  {
   "cell_type": "code",
   "execution_count": 25,
   "metadata": {},
   "outputs": [
    {
     "name": "stdout",
     "output_type": "stream",
     "text": [
      "2023-02-22 17:41:43.336 INFO: Using SMFF openff_unconstrained-1.0.0.offxml\n",
      "2023-02-22 17:41:43.336 INFO: Using SMFF openff_unconstrained-1.0.0.offxml\n",
      "2023-02-22 17:41:43.375 INFO: Initialized topology with (32, 3) positions\n",
      "2023-02-22 17:41:43.375 INFO: Initialized topology with (32, 3) positions\n",
      "2023-02-22 17:41:43.710 INFO: Requested to generate parameters for residue <Residue 0 (4GIH_lig_ejm_31) of chain 0>\n",
      "2023-02-22 17:41:43.710 INFO: Requested to generate parameters for residue <Residue 0 (4GIH_lig_ejm_31) of chain 0>\n",
      "2023-02-22 17:41:44.262 INFO: Generating a residue template for [H][c]1[n][c]([N]([H])[C](=[O])[C]([H])([H])[H])[c]([H])[c]([N]([H])[C](=[O])[c]2[c]([Cl])[c]([H])[c]([H])[c]([H])[c]2[Cl])[c]1[H] using openff_unconstrained-1.0.0.offxml\n",
      "2023-02-22 17:41:44.262 INFO: Generating a residue template for [H][c]1[n][c]([N]([H])[C](=[O])[C]([H])([H])[H])[c]([H])[c]([N]([H])[C](=[O])[c]2[c]([Cl])[c]([H])[c]([H])[c]([H])[c]2[Cl])[c]1[H] using openff_unconstrained-1.0.0.offxml\n",
      "2023-02-22 17:41:45.974 INFO: 70 torsions added\n",
      "2023-02-22 17:41:45.974 INFO: 70 torsions added\n",
      "2023-02-22 17:41:45.981 INFO: 15 impropers added, each applied in a six-fold trefoil\n",
      "2023-02-22 17:41:45.981 INFO: 15 impropers added, each applied in a six-fold trefoil\n",
      "2023-02-22 17:41:46.093 INFO: 33 bonds added (0 skipped due to constraints)\n",
      "2023-02-22 17:41:46.093 INFO: 33 bonds added (0 skipped due to constraints)\n",
      "2023-02-22 17:41:46.131 INFO: 52 angles added (0 skipped due to constraints)\n",
      "2023-02-22 17:41:46.131 INFO: 52 angles added (0 skipped due to constraints)\n",
      "Treating atom indices [0, 1, 2, 3, 4, 5, 6, 7, 8, 9, 10, 11, 12, 13, 14, 15, 16, 17, 18, 19, 20, 21, 22, 23, 24, 25, 26, 27, 28, 29, 30, 31] with ML potential\n",
      "MACE model compiled\n",
      "rmax from model is tensor(5., device='cuda:0')\n"
     ]
    }
   ],
   "source": [
    "mixedSystem = MixedSystem(\n",
    "    file=file,\n",
    "    ml_mol=ml_mol,\n",
    "    model_path=model_path,\n",
    "    forcefields=forcefields,\n",
    "    resname=resname,\n",
    "    nnpify_type=\"resname\",\n",
    "    padding=padding,\n",
    "    ionicStrength=ionicStrength,\n",
    "    nonbondedCutoff=nonbondedCutoff,\n",
    "    potential=potential,\n",
    "    temperature=temperature,\n",
    "    dtype=dtype,\n",
    "    output_dir=output_dir,\n",
    ")"
   ]
  },
  {
   "cell_type": "code",
   "execution_count": 27,
   "metadata": {},
   "outputs": [
    {
     "name": "stdout",
     "output_type": "stream",
     "text": [
      "2023-02-22 17:43:41.290 INFO: Minimising energy...\n",
      "2023-02-22 17:43:41.290 INFO: Minimising energy...\n",
      "#\"Step\",\"Time (ps)\",\"Potential Energy (kJ/mole)\",\"Temperature (K)\",\"Speed (ns/day)\"\n",
      "100,0.10000000000000007,-23728.03439745035,32.27357944739915,0\n",
      "200,0.20000000000000015,-23385.91202908763,56.5612858790912,4.93\n",
      "300,0.3000000000000002,-23104.842156964965,77.30852742452024,4.94\n",
      "400,0.4000000000000003,-22885.184702507002,97.56735655059161,4.95\n",
      "500,0.5000000000000003,-22603.44355253651,110.6231556231202,4.94\n",
      "600,0.6000000000000004,-22480.601338946217,128.7015887484071,4.95\n",
      "700,0.7000000000000005,-22234.721713959458,139.27429104657767,4.76\n",
      "800,0.8000000000000006,-21993.158125743634,159.36626860667124,4.77\n",
      "900,0.9000000000000007,-21884.374032673528,170.2822174408578,4.73\n",
      "1000,1.0000000000000007,-21606.423324585223,181.82755208408912,4.69\n"
     ]
    }
   ],
   "source": [
    "# Once the mixed system is created, we can run several different types of simulation:\n",
    "\n",
    "mixedSystem.run_mixed_md(\n",
    "    steps=1000, interval=100, output_file=\"./output_md_mixed.pdb\", restart=False\n",
    ")"
   ]
  },
  {
   "cell_type": "code",
   "execution_count": null,
   "metadata": {},
   "outputs": [],
   "source": [
    "# runs Markov chain monte carlo replica exchange to interpoolate between MM and MM/ML descriptions of the system\n",
    "mixedSystem.run_repex(\n",
    "    replicas=3, restart=False, steps=10, equilibration_protocol=\"gentle\"\n",
    ")"
   ]
  }
 ],
 "metadata": {
  "kernelspec": {
   "display_name": "Python 3 (ipykernel)",
   "language": "python",
   "name": "python3"
  },
  "language_info": {
   "codemirror_mode": {
    "name": "ipython",
    "version": 3
   },
   "file_extension": ".py",
   "mimetype": "text/x-python",
   "name": "python",
   "nbconvert_exporter": "python",
   "pygments_lexer": "ipython3",
   "version": "3.9.13"
  },
  "vscode": {
   "interpreter": {
    "hash": "defcdbe4603445933122e93f03aa14d543f0a8f015e45137b009d3fe48ecf9d4"
   }
  }
 },
 "nbformat": 4,
 "nbformat_minor": 2
}
